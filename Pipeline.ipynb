{
 "cells": [
  {
   "cell_type": "markdown",
   "id": "1e9c6384",
   "metadata": {},
   "source": [
    "# Neuronal connectivity based on cell morphologies\n",
    "## KTH: Project course in Scientific Computing "
   ]
  },
  {
   "cell_type": "code",
   "execution_count": 37,
   "id": "6c9dcc94",
   "metadata": {},
   "outputs": [
    {
     "name": "stdout",
     "output_type": "stream",
     "text": [
      "/Users/shriyabhatija/Documents/shriya/Dokumente/STUDIUM/MASTER/3. Semester - ERASMUS/Project Scientific Computing\n"
     ]
    }
   ],
   "source": [
    "import os \n",
    "os.chdir(\"/Users/shriyabhatija/Documents/shriya/Dokumente/STUDIUM/MASTER/3. Semester - ERASMUS/Project Scientific Computing\")\n",
    "print(os.getcwd())\n"
   ]
  },
  {
   "cell_type": "code",
   "execution_count": 5,
   "id": "7d110b04",
   "metadata": {},
   "outputs": [],
   "source": [
    "#Importing the basic necessary packages and libraries\n",
    "\n",
    "import matplotlib.pyplot as plt\n",
    "from   matplotlib import cm\n",
    "\n",
    "from scipy.stats import skewnorm\n",
    "from   scipy._lib._util import check_random_state\n",
    "from   scipy.stats._multivariate import _PSD, multi_rv_generic, multi_rv_frozen\n",
    "from   scipy.special import gammaln\n",
    "\n",
    "import seaborn as sns\n",
    "import numpy as np\n",
    "import collections\n",
    "\n",
    "import tensorflow as tf\n",
    "'TensorFlow version: ' + tf.__version__  \n",
    "import tensorflow_probability as tfp\n",
    "import tensorflow.compat.v1 as tfc\n",
    "tfd = tfp.distributions"
   ]
  },
  {
   "cell_type": "markdown",
   "id": "e6ab637c",
   "metadata": {},
   "source": [
    "### Skew-elliptical distribution"
   ]
  },
  {
   "cell_type": "code",
   "execution_count": 6,
   "id": "95d36944",
   "metadata": {},
   "outputs": [],
   "source": [
    "from   scipy.stats import (multivariate_normal as mvn, norm)\n",
    "from   scipy.stats._multivariate import _squeeze_output\n",
    "from   matplotlib import cm\n",
    "\n",
    "##############################################################\n",
    "\n",
    "#Multivariate Skew-normal distribution\n",
    "\n",
    "##############################################################\n",
    "\n",
    "\n",
    "class multivariate_skewnorm:\n",
    "    \n",
    "    def __init__(self, shape, cov):\n",
    "        self.dim   = len(shape)\n",
    "        self.shape = np.asarray(shape)\n",
    "        self.mean  = np.zeros(self.dim)\n",
    "        self.cov   = np.eye(self.dim) if cov is None else np.asarray(cov)\n",
    "\n",
    "    def pdf(self, x):\n",
    "        return np.exp(self.logpdf(x))\n",
    "        \n",
    "    def logpdf(self, x):\n",
    "        x    = mvn._process_quantiles(x, self.dim)\n",
    "        pdf  = mvn(self.mean, self.cov).logpdf(x)\n",
    "        cdf  = norm(0, 1).logcdf(np.dot(x, self.shape))\n",
    "        return _squeeze_output(np.log(2) + pdf + cdf)\n",
    "    \n",
    "    def rvs(self, size=1):\n",
    "        aCa      = self.shape @ self.cov @ self.shape\n",
    "        delta    = (1 / np.sqrt(1 + aCa)) * self.cov @ self.shape\n",
    "        cov_star = np.block([[np.ones(1),     delta],\n",
    "                         [delta[:, None], self.cov]])\n",
    "        x        = mvn(np.zeros(self.dim+1), cov_star).rvs(size)\n",
    "        x0, x1   = x[:, 0], x[:, 1:]\n",
    "        inds     = x0 <= 0\n",
    "        x1[inds] = -1 * x1[inds]\n",
    "        return x1\n",
    "    \n",
    "    \n",
    "    def contour_plot(self):\n",
    "        xxlim = 0., 100.\n",
    "        yylim = 0., 100.\n",
    "        xx = tf.linspace(*xxlim, num=100)\n",
    "        yy = tf.linspace(*yylim, num=100)\n",
    "        pos = tf.stack(tf.meshgrid(xx, yy), axis = -1)\n",
    "\n",
    "        fig, ax = plt.subplots(figsize=(6, 5))\n",
    "        #ax.set_title('')\n",
    "\n",
    "        cb = ax.contourf(xx, yy, self.pdf(pos+[-50,-50]), levels = 20, cmap=cm.viridis)\n",
    "\n",
    "        #fig.colorbar(cb, ax=ax)\n",
    "\n",
    "        ax.set_xlim([0,100])\n",
    "        ax.set_ylim([0,100])\n",
    "        \n",
    "    def scatter_plot(self):\n",
    "        sample = self.rvs(size=2000) + [50,50]\n",
    "        scatter = plt.scatter(sample[:,0],sample[:,1], alpha=0.2)\n",
    "        plt.xlim([0,100])\n",
    "        plt.ylim([0,100])\n",
    "        return sample, scatter\n",
    "        \n",
    "        \n",
    "class skew_opposite_dir:\n",
    "    \n",
    "    def __init__(self, shape, cov):\n",
    "        self.shape = shape\n",
    "        self.cov = cov\n",
    "        \n",
    "    def contour_plot(self):\n",
    "        \n",
    "        X = multivariate_skewnorm(self.shape, self.cov)\n",
    "        Y = multivariate_skewnorm(-1*self.shape, self.cov)\n",
    "        \n",
    "        xxlim = 0., 100.\n",
    "        yylim = 0., 100.\n",
    "        xx = tf.linspace(*xxlim, num=100)\n",
    "        yy = tf.linspace(*yylim, num=100)\n",
    "        pos = tf.stack(tf.meshgrid(xx, yy), axis = -1)\n",
    "\n",
    "        fig, ax = plt.subplots(figsize=(6, 5))\n",
    "        #ax.set_title('')\n",
    "        \n",
    "        pdf = X.pdf(pos+[-28,-28]) + Y.pdf(pos+[-72,-72])\n",
    "\n",
    "        cb = ax.contourf(xx, yy, pdf, levels = 20, cmap=cm.viridis)\n",
    "\n",
    "        #fig.colorbar(cb, ax=ax)\n",
    "\n",
    "        ax.set_xlim([0,100])\n",
    "        ax.set_ylim([0,100])\n",
    "        \n",
    "        \n",
    "    def scatter_plot(self):\n",
    "        \n",
    "        sample_X = multivariate_skewnorm(self.shape, self.cov).rvs(size=1000) + [28,28]\n",
    "        sample_Y = multivariate_skewnorm(-1*self.shape, self.cov).rvs(size=1000) + [72,72]\n",
    "        sample = np.concatenate((sample_X,sample_Y), axis=0)\n",
    "\n",
    "        scatter = plt.scatter(sample[:,0],sample[:,1], alpha=0.2)\n",
    "        plt.xlim([0,100])\n",
    "        plt.ylim([0,100])\n",
    "        \n",
    "        return sample, scatter\n",
    "        \n",
    "    \n",
    "class skew_same_dir:\n",
    "    \n",
    "    def __init__(self, shape, cov):\n",
    "        self.shape = shape\n",
    "        self.cov = cov\n",
    "        \n",
    "    def contour_plot(self):\n",
    "        \n",
    "        X = multivariate_skewnorm(self.shape, self.cov)\n",
    "        Y = multivariate_skewnorm(-1*self.shape, self.cov)\n",
    "        \n",
    "        xxlim = 0., 100.\n",
    "        yylim = 0., 100.\n",
    "        xx = tf.linspace(*xxlim, num=100)\n",
    "        yy = tf.linspace(*yylim, num=100)\n",
    "        pos = tf.stack(tf.meshgrid(xx, yy), axis = -1)\n",
    "\n",
    "        fig, ax = plt.subplots(figsize=(6, 5))\n",
    "        #ax.set_title('')\n",
    "        \n",
    "        pdf = X.pdf(pos+[-51,-51]) + Y.pdf(pos+[-49,-49])\n",
    "\n",
    "        cb = ax.contourf(xx, yy, pdf, levels = 20, cmap=cm.viridis)\n",
    "\n",
    "        #fig.colorbar(cb, ax=ax)\n",
    "\n",
    "        ax.set_xlim([0,100])\n",
    "        ax.set_ylim([0,100])\n",
    "        \n",
    "        \n",
    "    def scatter_plot(self):\n",
    "        \n",
    "        sample_X = multivariate_skewnorm(self.shape, self.cov).rvs(size=1000) + [51,51]\n",
    "        sample_Y = multivariate_skewnorm(-1*self.shape, self.cov).rvs(size=1000) + [49,49]\n",
    "        sample = np.concatenate((sample_X,sample_Y), axis=0)\n",
    "\n",
    "        scatter = plt.scatter(sample[:,0],sample[:,1], alpha=0.2)\n",
    "        plt.xlim([0,100])\n",
    "        plt.ylim([0,100])\n",
    "        \n",
    "        return sample, scatter"
   ]
  },
  {
   "cell_type": "code",
   "execution_count": 4,
   "id": "bfc221e0",
   "metadata": {},
   "outputs": [
    {
     "name": "stderr",
     "output_type": "stream",
     "text": [
      "2023-01-26 15:20:04.591274: I tensorflow/core/platform/cpu_feature_guard.cc:193] This TensorFlow binary is optimized with oneAPI Deep Neural Network Library (oneDNN) to use the following CPU instructions in performance-critical operations:  SSE4.1 SSE4.2 AVX\n",
      "To enable them in other operations, rebuild TensorFlow with the appropriate compiler flags.\n"
     ]
    },
    {
     "data": {
      "image/png": "[encoded data removed]",
      "text/plain": [
       "<Figure size 600x500 with 1 Axes>"
      ]
     },
     "metadata": {},
     "output_type": "display_data"
    }
   ],
   "source": [
    "####################################\n",
    "\n",
    "#shape3 - Pyramidal cell (version 1)\n",
    "\n",
    "####################################\n",
    "\n",
    "skew_opposite_dir(np.array([0.5,0.5]),[[230,180],[180,230]]).contour_plot()\n",
    "#skew_opposite_dir(np.array([0.5,0.5]),[[230,180],[180,230]]).scatter_plot()"
   ]
  },
  {
   "cell_type": "code",
   "execution_count": 5,
   "id": "0a4b1df7",
   "metadata": {},
   "outputs": [
    {
     "data": {
      "image/png": "[encoded data removed]",
      "text/plain": [
       "<Figure size 600x500 with 1 Axes>"
      ]
     },
     "metadata": {},
     "output_type": "display_data"
    }
   ],
   "source": [
    "#######\n",
    "\n",
    "#shape4\n",
    "\n",
    "#######\n",
    "\n",
    "skew_same_dir(np.array([0.5,0.5]),[[180,135],[135,180]]).contour_plot()\n",
    "#skew_same_dir(np.array([0.5,0.5]),[[180,135],[135,180]]).scatter_plot()"
   ]
  },
  {
   "cell_type": "code",
   "execution_count": 31,
   "id": "94e89b7f",
   "metadata": {},
   "outputs": [
    {
     "data": {
      "image/png": "[encoded data removed]",
      "text/plain": [
       "<Figure size 600x500 with 1 Axes>"
      ]
     },
     "metadata": {},
     "output_type": "display_data"
    }
   ],
   "source": [
    "######################\n",
    "\n",
    "#shape 5 - half sphere\n",
    "\n",
    "######################\n",
    "\n",
    "multivariate_skewnorm(np.array([0.5,0.5]), [[200,0],[0,200]]).contour_plot()\n",
    "#multivariate_skewnorm(np.array([0.5,0.5]), [[200,0],[0,200]]).scatter_plot()"
   ]
  },
  {
   "cell_type": "code",
   "execution_count": 7,
   "id": "6fb3ec42",
   "metadata": {},
   "outputs": [
    {
     "name": "stderr",
     "output_type": "stream",
     "text": [
      "2023-02-19 03:08:20.481535: I tensorflow/core/platform/cpu_feature_guard.cc:193] This TensorFlow binary is optimized with oneAPI Deep Neural Network Library (oneDNN) to use the following CPU instructions in performance-critical operations:  SSE4.1 SSE4.2 AVX\n",
      "To enable them in other operations, rebuild TensorFlow with the appropriate compiler flags.\n"
     ]
    },
    {
     "data": {
      "image/png": "[encoded data removed]",
      "text/plain": [
       "<Figure size 600x500 with 1 Axes>"
      ]
     },
     "metadata": {},
     "output_type": "display_data"
    }
   ],
   "source": [
    "######################\n",
    "\n",
    "#shape 6 - sphere\n",
    "\n",
    "######################\n",
    "\n",
    "multivariate_skewnorm(np.array([0,0]), [[200,0],[0,200]]).contour_plot()\n",
    "#multivariate_skewnorm(np.array([0,0]), [[200,0],[0,200]]).scatter_plot()"
   ]
  },
  {
   "cell_type": "markdown",
   "id": "a866a0b2",
   "metadata": {},
   "source": [
    "### SAS Transformation"
   ]
  },
  {
   "cell_type": "code",
   "execution_count": 8,
   "id": "26895ee9",
   "metadata": {},
   "outputs": [],
   "source": [
    "##############################################################\n",
    "\n",
    "#SinhArcsinh Transformation (SAS distribution) via tensorflow\n",
    "\n",
    "##############################################################\n",
    "\n",
    "\n",
    "class SinhArcSinh:\n",
    "    \n",
    "    def __init__(self, loc, scale, skewness,tailweight):\n",
    "        self.loc   = loc\n",
    "        self.scale = scale\n",
    "        self.skewness  = skewness\n",
    "        self.tailweight = tailweight\n",
    "        \n",
    "\n",
    "    def scatter_plot(self):\n",
    "        Z = tfp.distributions.SinhArcsinh(loc = self.loc, \n",
    "                                      scale = self.scale, \n",
    "                                      skewness=self.skewness, \n",
    "                                      tailweight=self.tailweight, \n",
    "                                      name='SinhArcsinh')\n",
    "        \n",
    "        sample = np.array(Z.sample(2000))\n",
    "        scatter = plt.scatter(sample[:,0],sample[:,1], alpha=0.2)\n",
    "        plt.xlim([0,100])\n",
    "        plt.ylim([0,100])\n",
    "        return sample, scatter\n",
    "    \n",
    "    \n",
    "    def contour_plot(self):\n",
    "        Z = tfp.distributions.SinhArcsinh(loc = self.loc, \n",
    "                                      scale = self.scale, \n",
    "                                      skewness=self.skewness, \n",
    "                                      tailweight=self.tailweight, \n",
    "                                      name='SinhArcsinh') \n",
    "        \n",
    "        \n",
    "        xxlim = 0., 100.\n",
    "        yylim = 0., 100.\n",
    "    \n",
    "        xx = tf.linspace(*xxlim, num=100)\n",
    "        yy = tf.linspace(*yylim, num=100)\n",
    "        pos = tf.stack(tf.meshgrid(xx, yy), axis = -1)\n",
    "\n",
    "        fig, ax = plt.subplots(figsize=(6, 5))\n",
    "        #ax.set_title('')\n",
    "\n",
    "        pdf = np.empty((100,100))\n",
    "        for i in range(0,100):\n",
    "            pdf[i] = Z.prob(pos)[i][:,0]*Z.prob(pos)[i][:,1]\n",
    "        \n",
    "        cb = ax.contourf(xx, yy, pdf, levels = 20, cmap=cm.viridis)\n",
    "\n",
    "        #fig.colorbar(cb, ax=ax)\n",
    "\n",
    "        ax.set_xlim([0,100])\n",
    "        ax.set_ylim([0,100])\n",
    "\n",
    "        #ax.set_xlabel('$x$')\n",
    "        #ax.set_ylabel('$y$')\n",
    "\n",
    "        #plt.show()\n",
    "        \n",
    "        \n",
    "        \n",
    "class Pyramidal_cell:\n",
    "    \n",
    "    def __init__(self, loc1, scale1, skewness1,tailweight1, loc2, scale2, skewness2,tailweight2):\n",
    "        self.loc1   = loc1\n",
    "        self.scale1 = scale1\n",
    "        self.skewness1  = skewness1\n",
    "        self.tailweight1 = tailweight1\n",
    "        \n",
    "        self.loc2   = loc2\n",
    "        self.scale2 = scale2\n",
    "        self.skewness2  = skewness2\n",
    "        self.tailweight2 = tailweight2\n",
    "          \n",
    "        \n",
    "    def contour_plot(self):\n",
    "        \n",
    "        X = tfp.distributions.SinhArcsinh(loc = self.loc1, \n",
    "                                      scale = self.scale1, \n",
    "                                      skewness=self.skewness1, \n",
    "                                      tailweight=self.tailweight1, \n",
    "                                      name='SinhArcsinh')\n",
    "        \n",
    "        Y = tfp.distributions.SinhArcsinh(loc = self.loc2, \n",
    "                                      scale = self.scale2, \n",
    "                                      skewness= self.skewness2, \n",
    "                                      tailweight= self.tailweight2, \n",
    "                                      name='SinhArcsinh') \n",
    "        \n",
    "        \n",
    "        xxlim = 0., 100.\n",
    "        yylim = 0., 100.\n",
    "        xx = tf.linspace(*xxlim, num=100)\n",
    "        yy = tf.linspace(*yylim, num=100)\n",
    "        pos = tf.stack(tf.meshgrid(xx, yy), axis = -1)\n",
    "\n",
    "        fig, ax = plt.subplots(figsize=(6, 5))\n",
    "        #ax.set_title('')\n",
    "\n",
    "        pdf_X = np.empty((100,100))\n",
    "        for i in range(0,100):\n",
    "            pdf_X[i] = X.prob(pos)[i][:,0]*X.prob(pos)[i][:,1]\n",
    "            \n",
    "        pdf_Y = np.empty((100,100))\n",
    "        for i in range(0,100):\n",
    "            pdf_Y[i] = Y.prob(pos)[i][:,0]*Y.prob(pos)[i][:,1]\n",
    "            \n",
    "        #Pdf of the middle part of the pyramidal cell    \n",
    "        Z_prob = multivariate_skewnorm(shape=[5,5], cov=[[30,26],[26,30]]).pdf(pos+[-self.loc2[0],-self.loc2[1]])+ multivariate_skewnorm(shape=[-5,-5], cov=[[30,26],[26,30]]).pdf(pos+[-self.loc1[0],-self.loc1[1]])\n",
    "        \n",
    "        \n",
    "        pdf = pdf_X*(self.scale1[1]/self.scale2[1])*10.5 + pdf_Y*10.5 + Z_prob*2.5\n",
    "        \n",
    "        cb = ax.contourf(xx, yy, pdf, levels = 20, cmap=cm.viridis)\n",
    "        #fig.colorbar(cb, ax=ax)\n",
    "\n",
    "        ax.set_xlim([0,100])\n",
    "        ax.set_ylim([0,100])\n",
    "\n",
    "        #ax.set_xlabel('$x$')\n",
    "        #ax.set_ylabel('$y$')\n",
    "\n",
    "        #plt.show()\n",
    "        \n",
    "        \n",
    "        \n",
    "    def scatter_plot(self):\n",
    "        X = tfp.distributions.SinhArcsinh(loc = self.loc1, \n",
    "                                      scale = self.scale1, \n",
    "                                      skewness=self.skewness1, \n",
    "                                      tailweight=self.tailweight1, \n",
    "                                      name='SinhArcsinh')\n",
    "        \n",
    "        Y = tfp.distributions.SinhArcsinh(loc = self.loc2, \n",
    "                                      scale = self.scale2, \n",
    "                                      skewness= self.skewness2, \n",
    "                                      tailweight= self.tailweight2, \n",
    "                                      name='SinhArcsinh') \n",
    "        \n",
    "        \n",
    "\n",
    "        sample_X = np.array(X.sample(1000))\n",
    "        sample_Y = np.array(Y.sample(1000))\n",
    "        \n",
    "        #middle part of pyramidal cell\n",
    "        sample_Z = multivariate_skewnorm(shape=[5,5], cov=[[30,28],[28,30]]).rvs(size=500)+ multivariate_skewnorm(shape=[-5,-5], cov=[[30,28],[28,30]]).rvs(size=500)\n",
    "        sample_Z = sample_Z + [(self.loc1[0]+self.loc2[0])*0.5,(self.loc1[1]+self.loc2[1])*0.5]\n",
    "        sample_Z = np.array(sample_Z)\n",
    "        \n",
    "        sample = np.concatenate((sample_X,sample_Y,sample_Z),axis=0)\n",
    "        \n",
    "        scatter = plt.scatter(sample[:,0],sample[:,1], alpha=0.2)\n",
    "\n",
    "        plt.xlim([0,100])\n",
    "        plt.ylim([0,100])\n",
    "        \n",
    "        return sample, scatter\n"
   ]
  },
  {
   "cell_type": "code",
   "execution_count": 9,
   "id": "49b45d82",
   "metadata": {},
   "outputs": [
    {
     "data": {
      "image/png": "[encoded data removed]",
      "text/plain": [
       "<Figure size 600x500 with 1 Axes>"
      ]
     },
     "metadata": {},
     "output_type": "display_data"
    }
   ],
   "source": [
    "######################################\n",
    "\n",
    "# shape 1 - Pyramidal cell (version 2)\n",
    "\n",
    "######################################\n",
    "\n",
    "Pyramidal_cell(loc1 = [60,60], scale1 = [7,7], skewness1=[1,1], tailweight1=[1.2,1.2],loc2 = [40,40], scale2 = [4,4], skewness2=[-1,-1], tailweight2=[1,1]).contour_plot()\n",
    "#Pyramidal_cell(loc1 = [60,60], scale1 = [7,7], skewness1=[1,1], tailweight1=[1.2,1.2],loc2 = [40,40], scale2 = [4,4], skewness2=[-1,-1], tailweight2=[1,1]).scatter_plot()"
   ]
  },
  {
   "cell_type": "code",
   "execution_count": 10,
   "id": "f5f1bfb8",
   "metadata": {},
   "outputs": [
    {
     "data": {
      "image/png": "[encoded data removed]",
      "text/plain": [
       "<Figure size 600x500 with 1 Axes>"
      ]
     },
     "metadata": {},
     "output_type": "display_data"
    }
   ],
   "source": [
    "##########\n",
    "\n",
    "# shape 2\n",
    "\n",
    "##########\n",
    "\n",
    "SinhArcSinh(loc=[50,50], scale=[15,15], skewness=[0.5,0.5],tailweight=[1.5,1.5]).contour_plot()\n",
    "#SinhArcSinh(loc=[50,50], scale=[15,15], skewness=[0.5,0.5],tailweight=[1.5,1.5]).scatter_plot()"
   ]
  },
  {
   "cell_type": "code",
   "execution_count": 11,
   "id": "96f97cd2",
   "metadata": {},
   "outputs": [],
   "source": [
    "def density_matrix(points): \n",
    "    \n",
    "    \"\"\"\n",
    "    density_matrix takes a 2D point cloud and returns its density matrix \n",
    "\n",
    "    :param points: 2D array of arbitrary length that specifies the spacial location of samples in the point cloud\n",
    "    :return: 2D array of shape (100,100} describing the density matrix evaluated on samples in the range [(0,0),(100,100)]\n",
    "    \"\"\"\n",
    "\n",
    "    def count_samples(x,y): \n",
    "        \n",
    "        \"\"\"\n",
    "        count_samples computes the number of samples of the point cloud in an area of 1x1\n",
    "\n",
    "        :param x, y: floats for which the number of samples whose first dimension entry lies in [x,x+1) \n",
    "                     and second dimension entry lies in [y,y+1) is counted\n",
    "        :return: number of points within the specified ranges\n",
    "        \"\"\"\n",
    "        \n",
    "        count = 0\n",
    "        for i in range(points.shape[0]):\n",
    "            if np.any((points[i][0] < x+1)&(points[i][0] >= x)) and np.any((points[i][1] < y+1)&(points[i][1] >= y)):\n",
    "                count += 1\n",
    "        return count\n",
    "    \n",
    "    A = np.empty((100,100))\n",
    "    \n",
    "    #Generate density matrix given the number of samples in an 1x1 area\n",
    "    for x in range(0,100,1):\n",
    "        for y in range(0,100,1):\n",
    "            A[x][y] = count_samples(x,y)\n",
    "    A = (1/points.shape[0]) * A\n",
    "    return A"
   ]
  },
  {
   "cell_type": "code",
   "execution_count": null,
   "id": "f22881bd",
   "metadata": {},
   "outputs": [],
   "source": [
    "#Density matrix of shape 1\n",
    "shape1 = Pyramidal_cell(loc1 = [60,60], scale1 = [7,7], skewness1=[1,1], tailweight1=[1.2,1.2],loc2 = [40,40], scale2 = [4,4], skewness2=[-1,-1], tailweight2=[1,1]).scatter_plot()\n",
    "shape1_density_matrix = density_matrix(shape1[0])\n",
    "shape1_density_matrix = shape1_density_matrix * (1/sum(sum(shape1_density_matrix))) #Normalizing because not all points lie within ([0,100],[0,100])\n",
    "%store shape1_density_matrix"
   ]
  },
  {
   "cell_type": "code",
   "execution_count": null,
   "id": "eb3566c1",
   "metadata": {},
   "outputs": [],
   "source": [
    "#Density matrix of shape 2\n",
    "shape2 = SinhArcSinh(loc=[50,50], scale=[15,15], skewness=[0.5,0.5],tailweight=[1.5,1.5]).scatter_plot()\n",
    "shape2_density_matrix = density_matrix(shape2[0])\n",
    "shape2_density_matrix = shape2_density_matrix * (1/sum(sum(shape2_density_matrix))) #Normalizing because not all points lie within ([0,100],[0,100])\n",
    "%store shape2_density_matrix"
   ]
  },
  {
   "cell_type": "code",
   "execution_count": null,
   "id": "10bffa10",
   "metadata": {},
   "outputs": [],
   "source": [
    "#Density matrix of shape 3\n",
    "shape3 = skew_opposite_dir(np.array([0.5,0.5]),[[230,180],[180,230]]).scatter_plot()\n",
    "shape3_density_matrix = density_matrix(shape3[0])\n",
    "shape3_density_matrix = shape3_density_matrix * (1/sum(sum(shape3_density_matrix))) #Normalizing because not all points lie within ([0,100],[0,100])\n",
    "%store shape3_density_matrix"
   ]
  },
  {
   "cell_type": "code",
   "execution_count": null,
   "id": "f617df10",
   "metadata": {},
   "outputs": [],
   "source": [
    "#Density matrix of shape 4\n",
    "shape4 = skew_same_dir(np.array([0.5,0.5]),[[180,135],[135,180]]).scatter_plot()\n",
    "shape4_density_matrix = density_matrix(shape4[0])\n",
    "shape4_density_matrix = shape4_density_matrix * (1/sum(sum(shape4_density_matrix))) #Normalizing because not all points lie within ([0,100],[0,100])\n",
    "%store shape4_density_matrix"
   ]
  },
  {
   "cell_type": "code",
   "execution_count": null,
   "id": "8450e2b5",
   "metadata": {},
   "outputs": [],
   "source": [
    "#Density matrix of shape 5\n",
    "shape5 = multivariate_skewnorm(np.array([0.5,0.5]), [[200,0],[0,200]]).scatter_plot()\n",
    "shape5_density_matrix = density_matrix(shape5[0])\n",
    "shape5_density_matrix = shape5_density_matrix * (1/sum(sum(shape5_density_matrix))) #Normalizing because not all points lie within ([0,100],[0,100])\n",
    "%store shape5_density_matrix"
   ]
  },
  {
   "cell_type": "code",
   "execution_count": null,
   "id": "897dc352",
   "metadata": {},
   "outputs": [],
   "source": [
    "#shape 6 \n",
    "shape6 = multivariate_skewnorm(np.array([0,0]), [[200,0],[0,200]]).scatter_plot()\n",
    "shape6_density_matrix = density_matrix(shape6[0])\n",
    "shape6_density_matrix = shape6_density_matrix * (1/sum(sum(shape6_density_matrix))) #Normalizing because not all points lie within ([0,100],[0,100])\n",
    "%store shape6_density_matrix"
   ]
  },
  {
   "cell_type": "code",
   "execution_count": 15,
   "id": "22fbe249",
   "metadata": {},
   "outputs": [],
   "source": [
    "%store -r shape1_density_matrix\n",
    "%store -r shape2_density_matrix\n",
    "%store -r shape3_density_matrix\n",
    "%store -r shape4_density_matrix\n",
    "%store -r shape5_density_matrix\n",
    "%store -r shape6_density_matrix"
   ]
  },
  {
   "cell_type": "code",
   "execution_count": 73,
   "id": "70f8d458",
   "metadata": {},
   "outputs": [
    {
     "name": "stdout",
     "output_type": "stream",
     "text": [
      "Stored 'nums' (ndarray)\n",
      "Stored 'nums_pad' (ndarray)\n"
     ]
    }
   ],
   "source": [
    "#Initiate a space of 100 neurons randomly as a matrix with entries zeros and ones\n",
    "#Create a matrix of shape (200,200) with 100 random entries being one and the rest zero\n",
    "#The ones represent the position of somata\n",
    "\n",
    "nums = np.zeros((200,200))                #Matrix of shape (200,200) with entries 0 \n",
    "nums[:1,0:100] = 1                        #100 entries should be one\n",
    "nums = nums.flatten()                     #flatten matrix for shuffling\n",
    "np.random.shuffle(nums)                   #shuffle entries \n",
    "nums = np.reshape(nums, (200,200))        #Reshape into matrix of shape (200,200)\n",
    "\n",
    "nums_pad = np.pad(nums,100)               #Add padding for future convolution, nums_pad has shape (400,400)\n",
    "%store nums\n",
    "%store nums_pad"
   ]
  },
  {
   "cell_type": "code",
   "execution_count": 74,
   "id": "221b8786",
   "metadata": {},
   "outputs": [
    {
     "data": {
      "text/plain": [
       "<matplotlib.collections.PolyCollection at 0x18f984fd0>"
      ]
     },
     "execution_count": 74,
     "metadata": {},
     "output_type": "execute_result"
    },
    {
     "data": {
      "image/png": "[encoded data removed]",
      "text/plain": [
       "<Figure size 640x480 with 1 Axes>"
      ]
     },
     "metadata": {},
     "output_type": "display_data"
    }
   ],
   "source": [
    "#Save Space of all Somata for the report \n",
    "#plt.pcolor(nums)\n",
    "#plt.rc('xtick', labelsize=15) \n",
    "#plt.rc('ytick', labelsize=15) \n",
    "#plt.savefig('Somata_space')"
   ]
  },
  {
   "cell_type": "code",
   "execution_count": 76,
   "id": "f10fab90",
   "metadata": {},
   "outputs": [],
   "source": [
    "def soma_locations(neuron_space): \n",
    "    \n",
    "    \"\"\"\n",
    "    soma_locations infers the position of all somata in the space of all neurons\n",
    "\n",
    "    :param neuron_space: 2D array of arbitrary length \n",
    "    :return: 2D array containing the spacial location of one entries in neuron_space\n",
    "    \"\"\"\n",
    "    \n",
    "    locations = []\n",
    "    for i in range(0,neuron_space.shape[0]):\n",
    "        for j in range(0,neuron_space.shape[1]):\n",
    "            if neuron_space[i][j] == 1: \n",
    "                locations.append(np.array([i,j]))\n",
    "    return np.array(locations)\n",
    "\n",
    "#soma_locations(nums_pad) #gives locations of the somata in the padded space (padding necessary for convolution)"
   ]
  },
  {
   "cell_type": "code",
   "execution_count": 146,
   "id": "17f32e63",
   "metadata": {},
   "outputs": [],
   "source": [
    "def connectivity_matrix(axon_morph, dendrite_morph, thr):\n",
    "    \n",
    "    \"\"\"\n",
    "    connectivity_matrix creates a connectivty matrix via convolution given a threshold value\n",
    "\n",
    "    :param axon_morph: 2D array of arbitrary length that specifies the shape of the axon, i.e. could be density matrix\n",
    "    :param dendrite_morph: 2D array of arbitrary length that specifies the shape of the dendrite, i.e. could be density matrix\n",
    "    :thr: floating point number\n",
    "    \n",
    "    :return: 2D array of shape (100,100) specifying the neuronal connectivity\n",
    "    \"\"\"\n",
    "    \n",
    "    D = np.empty((100,100))\n",
    "    for x in range(0,100):\n",
    "        for y in range(0,100):\n",
    "            B = np.zeros((400,400))\n",
    "            C = np.zeros((400,400))\n",
    "            r1 = soma_locations(nums_pad)[x][0]-50\n",
    "            c1 = soma_locations(nums_pad)[x][1]-50\n",
    "            r2 = soma_locations(nums_pad)[y][0]-50\n",
    "            c2 = soma_locations(nums_pad)[y][1]-50\n",
    "        \n",
    "            # B[r1:r1+axon_morph.shape[0], c1:c1+axon_morph.shape[1]] = axon_morph --> positions the upper left corner of axon_morph at position (r1,c1) of matrix B\n",
    "            B[r1:r1+axon_morph.shape[0], c1:c1+axon_morph.shape[1]] = axon_morph \n",
    "            \n",
    "            # C[r2:r2+dendrite_morph.shape[0], c2:c2+dendrite_morph.shape[1]] --> positions the upper left corner of dendrite_morph at position (r2,c2) of matrix C\n",
    "            C[r2:r2+dendrite_morph.shape[0], c2:c2+dendrite_morph.shape[1]] = dendrite_morph\n",
    "            \n",
    "            if sum(sum(np.multiply(B,C))) >= thr: \n",
    "                D[x][y]=1            #entry=1 if axon of neuron x connects to dedrite of neuron y\n",
    "            else: \n",
    "                D[x][y]=0\n",
    "                \n",
    "    return D"
   ]
  },
  {
   "cell_type": "markdown",
   "id": "934d6207",
   "metadata": {},
   "source": [
    "### Connectivity Matrices - Examples"
   ]
  },
  {
   "cell_type": "code",
   "execution_count": null,
   "id": "ce1f40cd",
   "metadata": {},
   "outputs": [],
   "source": [
    "#matrix1 = connectivity_matrix(shape1_density_matrix, shape6_density_matrix, 2e-6)\n",
    "#%store matrix1"
   ]
  },
  {
   "cell_type": "code",
   "execution_count": null,
   "id": "91639d9c",
   "metadata": {},
   "outputs": [],
   "source": [
    "#matrix2 = connectivity_matrix(shape1_density_matrix, shape5_density_matrix, 2e-6)\n",
    "#%store matrix2"
   ]
  },
  {
   "cell_type": "code",
   "execution_count": null,
   "id": "3eafbc9f",
   "metadata": {},
   "outputs": [],
   "source": [
    "#matrix3 = connectivity_matrix(shape4_density_matrix, shape5_density_matrix, 2e-6)\n",
    "#%store matrix3"
   ]
  },
  {
   "cell_type": "code",
   "execution_count": null,
   "id": "e6902b4d",
   "metadata": {},
   "outputs": [],
   "source": [
    "#matrix4 = connectivity_matrix(shape2_density_matrix, shape3_density_matrix, 2e-6)\n",
    "#%store matrix4"
   ]
  },
  {
   "cell_type": "code",
   "execution_count": null,
   "id": "7ff8447d",
   "metadata": {},
   "outputs": [],
   "source": [
    "#matrix1_version2 = connectivity_matrix(shape1_density_matrix, shape6_density_matrix, 2e-5)\n",
    "#%store matrix1_version2"
   ]
  },
  {
   "cell_type": "code",
   "execution_count": null,
   "id": "17e9cd7b",
   "metadata": {},
   "outputs": [],
   "source": [
    "#matrix3_version2 = connectivity_matrix(shape4_density_matrix, shape5_density_matrix, 2e-5)\n",
    "#%store matrix3_version2"
   ]
  },
  {
   "cell_type": "code",
   "execution_count": null,
   "id": "9e2bbe98",
   "metadata": {},
   "outputs": [],
   "source": [
    "#matrix4_version2 = connectivity_matrix(shape2_density_matrix, shape3_density_matrix, 2e-5)\n",
    "#%store matrix4_version2"
   ]
  },
  {
   "cell_type": "code",
   "execution_count": null,
   "id": "d55e531e",
   "metadata": {},
   "outputs": [],
   "source": [
    "#matrix1_version3 = connectivity_matrix(shape1_density_matrix, shape6_density_matrix, 2e-4)\n",
    "#%store matrix1_version3"
   ]
  },
  {
   "cell_type": "code",
   "execution_count": null,
   "id": "ebc23a3f",
   "metadata": {},
   "outputs": [],
   "source": [
    "#matrix3_version3 = connectivity_matrix(shape4_density_matrix, shape5_density_matrix, 2e-4)\n",
    "#%store matrix3_version3"
   ]
  },
  {
   "cell_type": "code",
   "execution_count": null,
   "id": "93551c4d",
   "metadata": {},
   "outputs": [],
   "source": [
    "#matrix4_version3 = connectivity_matrix(shape2_density_matrix, shape3_density_matrix, 2e-4)\n",
    "#%store matrix4_version3"
   ]
  },
  {
   "cell_type": "markdown",
   "id": "49abf1f0",
   "metadata": {},
   "source": [
    "### Analysis of the connectivity matrices"
   ]
  },
  {
   "cell_type": "code",
   "execution_count": 48,
   "id": "83c7d147",
   "metadata": {},
   "outputs": [],
   "source": [
    "#Helpful functions \n",
    "\n",
    "#Function computes number of axonal connections\n",
    "def no_connections(matrix):\n",
    "    totals = np.empty(100)\n",
    "    for i in range(0,matrix.shape[0]):\n",
    "        count = 0 \n",
    "        for j in range(0,matrix.shape[1]):\n",
    "            if matrix[i][j]==1: \n",
    "                count=count+1\n",
    "        totals[i]=count\n",
    "    return totals\n",
    "\n",
    "#Plots number of axonal connections per neuron\n",
    "def plot_nr_connections(matrices):\n",
    "    points = np.arange(1,101)\n",
    "    for i in range(0,matrices.shape[0]):\n",
    "        connections = no_connections(matrices[i])\n",
    "        plt.plot(points,connections)\n",
    "        plt.show()"
   ]
  },
  {
   "cell_type": "code",
   "execution_count": null,
   "id": "8f4e23a0",
   "metadata": {},
   "outputs": [],
   "source": [
    "os.chdir(\"/Users/shriyabhatija/Documents/shriya/Dokumente/STUDIUM/MASTER/3. Semester - ERASMUS/Project Scientific Computing/shapes\")\n",
    "xx = np.load('./conn_mat_shape_0.npz')\n",
    "yy = xx['conn_mat']\n",
    "plt.pcolor(yy[5])\n",
    "plt.show()\n",
    "#plt.savefig('C1', bbox_inches ='tight')\n",
    "\n",
    "number = no_connections(yy[5])\n",
    "points = np.arange(1,101)\n",
    "plt.plot(points,number)\n",
    "#plt.savefig('NoCon_C1', bbox_inches ='tight')\n",
    "plt.ylim([0,45])\n",
    "plt.show()\n",
    "\n",
    "spec = np.linalg.eig(yy[5])\n",
    "plt.plot(np.real(spec[0]),np.imag(spec[0]),'.')\n",
    "plt.ylim([-3,3])\n",
    "#plt.savefig('Eig_C1', bbox_inches ='tight')"
   ]
  },
  {
   "cell_type": "code",
   "execution_count": null,
   "id": "35f5ae2b",
   "metadata": {},
   "outputs": [],
   "source": [
    "os.chdir(\"/Users/shriyabhatija/Documents/shriya/Dokumente/STUDIUM/MASTER/3. Semester - ERASMUS/Project Scientific Computing/shapes\")\n",
    "xx = np.load('./conn_mat_shape_1.npz')\n",
    "yy = xx['conn_mat']\n",
    "plt.pcolor(yy[3])\n",
    "plt.show()\n",
    "#plt.savefig('C2', bbox_inches ='tight')\n",
    "\n",
    "number = no_connections(yy[3])\n",
    "points = np.arange(1,101)\n",
    "plt.plot(points,number)\n",
    "plt.ylim([0,45])\n",
    "#plt.savefig('NoCon_C2', bbox_inches ='tight')\n",
    "plt.show()\n",
    "\n",
    "spec = np.linalg.eig(yy[3])\n",
    "plt.plot(np.real(spec[0]),np.imag(spec[0]),'.')\n",
    "plt.ylim([-3,3])\n",
    "#plt.savefig('Eig_C2', bbox_inches ='tight')"
   ]
  },
  {
   "cell_type": "code",
   "execution_count": null,
   "id": "5f9d9398",
   "metadata": {},
   "outputs": [],
   "source": [
    "os.chdir(\"/Users/shriyabhatija/Documents/shriya/Dokumente/STUDIUM/MASTER/3. Semester - ERASMUS/Project Scientific Computing/shapes\")\n",
    "xx = np.load('./conn_mat_shape_2.npz')\n",
    "yy = xx['conn_mat']\n",
    "plt.pcolor(yy[4])\n",
    "plt.show()\n",
    "#plt.savefig('C3', bbox_inches ='tight')\n",
    "\n",
    "number = no_connections(yy[4])\n",
    "points = np.arange(1,101)\n",
    "plt.plot(points,number)\n",
    "plt.ylim([0,45])\n",
    "#plt.savefig('NoCon_C3', bbox_inches ='tight')\n",
    "plt.show()\n",
    "\n",
    "spec = np.linalg.eig(yy[4])\n",
    "plt.plot(np.real(spec[0]),np.imag(spec[0]),'.')\n",
    "plt.ylim([-3,3])\n",
    "#plt.savefig('Eig_C3', bbox_inches ='tight')"
   ]
  },
  {
   "cell_type": "code",
   "execution_count": null,
   "id": "1f92f7ef",
   "metadata": {},
   "outputs": [],
   "source": [
    "os.chdir(\"/Users/shriyabhatija/Documents/shriya/Dokumente/STUDIUM/MASTER/3. Semester - ERASMUS/Project Scientific Computing/shapes\")\n",
    "xx = np.load('./conn_mat_shape_3.npz')\n",
    "yy = xx['conn_mat']"
   ]
  },
  {
   "cell_type": "code",
   "execution_count": 134,
   "id": "356a8133",
   "metadata": {},
   "outputs": [],
   "source": [
    "os.chdir(\"/Users/shriyabhatija/Documents/shriya/Dokumente/STUDIUM/MASTER/3. Semester - ERASMUS/Project Scientific Computing/shapes\")\n",
    "xx = np.load('./conn_mat_shape_4.npz')\n",
    "yy = xx['conn_mat']"
   ]
  },
  {
   "cell_type": "code",
   "execution_count": 135,
   "id": "c9d6a3f2",
   "metadata": {},
   "outputs": [],
   "source": [
    "os.chdir(\"/Users/shriyabhatija/Documents/shriya/Dokumente/STUDIUM/MASTER/3. Semester - ERASMUS/Project Scientific Computing/shapes\")\n",
    "xx = np.load('./conn_mat_shape_5.npz')\n",
    "yy = xx['conn_mat']"
   ]
  }
 ],
 "metadata": {
  "kernelspec": {
   "display_name": "tf",
   "language": "python",
   "name": "tf"
  },
  "language_info": {
   "codemirror_mode": {
    "name": "ipython",
    "version": 3
   },
   "file_extension": ".py",
   "mimetype": "text/x-python",
   "name": "python",
   "nbconvert_exporter": "python",
   "pygments_lexer": "ipython3",
   "version": "3.10.6"
  }
 },
 "nbformat": 4,
 "nbformat_minor": 5
}
